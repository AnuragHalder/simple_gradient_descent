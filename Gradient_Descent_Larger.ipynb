{
 "cells": [
  {
   "cell_type": "code",
   "execution_count": 1,
   "id": "0694e95c-fcdc-4470-a5e7-1040a807f9be",
   "metadata": {},
   "outputs": [],
   "source": [
    "import pandas as pd\n",
    "import numpy as np\n",
    "from matplotlib import pyplot as plt"
   ]
  },
  {
   "cell_type": "code",
   "execution_count": 202,
   "id": "e189d82d-dd91-4f55-b031-91cd1d7a0c7e",
   "metadata": {},
   "outputs": [
    {
     "data": {
      "text/html": [
       "<div>\n",
       "<style scoped>\n",
       "    .dataframe tbody tr th:only-of-type {\n",
       "        vertical-align: middle;\n",
       "    }\n",
       "\n",
       "    .dataframe tbody tr th {\n",
       "        vertical-align: top;\n",
       "    }\n",
       "\n",
       "    .dataframe thead th {\n",
       "        text-align: right;\n",
       "    }\n",
       "</style>\n",
       "<table border=\"1\" class=\"dataframe\">\n",
       "  <thead>\n",
       "    <tr style=\"text-align: right;\">\n",
       "      <th></th>\n",
       "      <th>Y</th>\n",
       "      <th>X1</th>\n",
       "      <th>X2</th>\n",
       "      <th>X3</th>\n",
       "      <th>X4</th>\n",
       "      <th>X5</th>\n",
       "      <th>X6</th>\n",
       "      <th>X7</th>\n",
       "      <th>X8</th>\n",
       "      <th>X9</th>\n",
       "      <th>X10</th>\n",
       "      <th>X11</th>\n",
       "    </tr>\n",
       "  </thead>\n",
       "  <tbody>\n",
       "    <tr>\n",
       "      <th>0</th>\n",
       "      <td>12431</td>\n",
       "      <td>455</td>\n",
       "      <td>321</td>\n",
       "      <td>208</td>\n",
       "      <td>310</td>\n",
       "      <td>560</td>\n",
       "      <td>387</td>\n",
       "      <td>679</td>\n",
       "      <td>477</td>\n",
       "      <td>319</td>\n",
       "      <td>452</td>\n",
       "      <td>388</td>\n",
       "    </tr>\n",
       "    <tr>\n",
       "      <th>1</th>\n",
       "      <td>10996</td>\n",
       "      <td>236</td>\n",
       "      <td>379</td>\n",
       "      <td>487</td>\n",
       "      <td>375</td>\n",
       "      <td>630</td>\n",
       "      <td>368</td>\n",
       "      <td>664</td>\n",
       "      <td>470</td>\n",
       "      <td>459</td>\n",
       "      <td>139</td>\n",
       "      <td>397</td>\n",
       "    </tr>\n",
       "    <tr>\n",
       "      <th>2</th>\n",
       "      <td>9917</td>\n",
       "      <td>285</td>\n",
       "      <td>455</td>\n",
       "      <td>402</td>\n",
       "      <td>455</td>\n",
       "      <td>678</td>\n",
       "      <td>310</td>\n",
       "      <td>407</td>\n",
       "      <td>251</td>\n",
       "      <td>419</td>\n",
       "      <td>221</td>\n",
       "      <td>388</td>\n",
       "    </tr>\n",
       "    <tr>\n",
       "      <th>3</th>\n",
       "      <td>9299</td>\n",
       "      <td>280</td>\n",
       "      <td>403</td>\n",
       "      <td>214</td>\n",
       "      <td>417</td>\n",
       "      <td>344</td>\n",
       "      <td>456</td>\n",
       "      <td>597</td>\n",
       "      <td>144</td>\n",
       "      <td>445</td>\n",
       "      <td>138</td>\n",
       "      <td>414</td>\n",
       "    </tr>\n",
       "    <tr>\n",
       "      <th>4</th>\n",
       "      <td>9728</td>\n",
       "      <td>446</td>\n",
       "      <td>452</td>\n",
       "      <td>272</td>\n",
       "      <td>401</td>\n",
       "      <td>357</td>\n",
       "      <td>414</td>\n",
       "      <td>332</td>\n",
       "      <td>443</td>\n",
       "      <td>317</td>\n",
       "      <td>109</td>\n",
       "      <td>475</td>\n",
       "    </tr>\n",
       "  </tbody>\n",
       "</table>\n",
       "</div>"
      ],
      "text/plain": [
       "       Y   X1   X2   X3   X4   X5   X6   X7   X8   X9  X10  X11\n",
       "0  12431  455  321  208  310  560  387  679  477  319  452  388\n",
       "1  10996  236  379  487  375  630  368  664  470  459  139  397\n",
       "2   9917  285  455  402  455  678  310  407  251  419  221  388\n",
       "3   9299  280  403  214  417  344  456  597  144  445  138  414\n",
       "4   9728  446  452  272  401  357  414  332  443  317  109  475"
      ]
     },
     "execution_count": 202,
     "metadata": {},
     "output_type": "execute_result"
    }
   ],
   "source": [
    "df = pd.read_csv('Gradient_Descent_Data.csv')\n",
    "df.head()"
   ]
  },
  {
   "cell_type": "code",
   "execution_count": 162,
   "id": "a9a9b07d-de72-4595-8883-65303563fd6c",
   "metadata": {},
   "outputs": [],
   "source": [
    "df_normalised = (df - df.min())/(df.max()-df.min())"
   ]
  },
  {
   "cell_type": "code",
   "execution_count": 197,
   "id": "65c613cf-d858-45a0-80ce-b88b9730df88",
   "metadata": {},
   "outputs": [
    {
     "name": "stdout",
     "output_type": "stream",
     "text": [
      "1.637467626531313\n"
     ]
    },
    {
     "data": {
      "image/png": "[encoded data removed]",
      "text/plain": [
       "<Figure size 432x288 with 1 Axes>"
      ]
     },
     "metadata": {
      "needs_background": "light"
     },
     "output_type": "display_data"
    }
   ],
   "source": [
    "Y = df_normalised['Y'].to_numpy()\n",
    "Y = Y.reshape(-1,1)\n",
    "X = df_normalised.iloc[:,1:].to_numpy()\n",
    "Coeff = np.random.standard_normal(X.shape[1]) # initiation weights\n",
    "Coeff = Coeff.reshape(-1, 1)\n",
    "i = 0\n",
    "Loss = []\n",
    "while i < 300:\n",
    "    S_1 = Y - np.matmul(X,Coeff)\n",
    "    Loss.append(np.matmul(S_1.transpose(),S_1).item())\n",
    "    update_coeff = np.matmul(S_1.transpose(),-X)\n",
    "    Coeff-= 0.0017*update_coeff.transpose()\n",
    "    i+=1\n",
    "plt.plot(Loss)\n",
    "print(Loss[-1])"
   ]
  }
 ],
 "metadata": {
  "kernelspec": {
   "display_name": "Python 3 (ipykernel)",
   "language": "python",
   "name": "python3"
  },
  "language_info": {
   "codemirror_mode": {
    "name": "ipython",
    "version": 3
   },
   "file_extension": ".py",
   "mimetype": "text/x-python",
   "name": "python",
   "nbconvert_exporter": "python",
   "pygments_lexer": "ipython3",
   "version": "3.9.7"
  }
 },
 "nbformat": 4,
 "nbformat_minor": 5
}
