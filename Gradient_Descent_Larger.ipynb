{
 "cells": [
  {
   "cell_type": "code",
   "execution_count": 3,
   "id": "0694e95c-fcdc-4470-a5e7-1040a807f9be",
   "metadata": {},
   "outputs": [],
   "source": [
    "import pandas as pd\n",
    "import numpy as np\n",
    "from matplotlib import pyplot as plt"
   ]
  },
  {
   "cell_type": "code",
   "execution_count": 4,
   "id": "e189d82d-dd91-4f55-b031-91cd1d7a0c7e",
   "metadata": {},
   "outputs": [],
   "source": [
    "df = pd.read_csv('Gradient_Descent_Data.csv')"
   ]
  },
  {
   "cell_type": "code",
   "execution_count": 5,
   "id": "a9a9b07d-de72-4595-8883-65303563fd6c",
   "metadata": {},
   "outputs": [
    {
     "data": {
      "text/html": [
       "<div>\n",
       "<style scoped>\n",
       "    .dataframe tbody tr th:only-of-type {\n",
       "        vertical-align: middle;\n",
       "    }\n",
       "\n",
       "    .dataframe tbody tr th {\n",
       "        vertical-align: top;\n",
       "    }\n",
       "\n",
       "    .dataframe thead th {\n",
       "        text-align: right;\n",
       "    }\n",
       "</style>\n",
       "<table border=\"1\" class=\"dataframe\">\n",
       "  <thead>\n",
       "    <tr style=\"text-align: right;\">\n",
       "      <th></th>\n",
       "      <th>Y</th>\n",
       "      <th>X1</th>\n",
       "      <th>X2</th>\n",
       "      <th>X3</th>\n",
       "      <th>X4</th>\n",
       "      <th>X5</th>\n",
       "      <th>X6</th>\n",
       "      <th>X7</th>\n",
       "      <th>X8</th>\n",
       "      <th>X9</th>\n",
       "      <th>X10</th>\n",
       "      <th>X11</th>\n",
       "      <th>int</th>\n",
       "    </tr>\n",
       "  </thead>\n",
       "  <tbody>\n",
       "    <tr>\n",
       "      <th>0</th>\n",
       "      <td>0.815639</td>\n",
       "      <td>0.850000</td>\n",
       "      <td>0.105528</td>\n",
       "      <td>0.270677</td>\n",
       "      <td>0.366667</td>\n",
       "      <td>0.6500</td>\n",
       "      <td>0.435</td>\n",
       "      <td>0.949875</td>\n",
       "      <td>0.9425</td>\n",
       "      <td>0.095</td>\n",
       "      <td>0.882206</td>\n",
       "      <td>0.437186</td>\n",
       "      <td>1</td>\n",
       "    </tr>\n",
       "    <tr>\n",
       "      <th>1</th>\n",
       "      <td>0.551610</td>\n",
       "      <td>0.120000</td>\n",
       "      <td>0.396985</td>\n",
       "      <td>0.969925</td>\n",
       "      <td>0.583333</td>\n",
       "      <td>0.8250</td>\n",
       "      <td>0.340</td>\n",
       "      <td>0.912281</td>\n",
       "      <td>0.9250</td>\n",
       "      <td>0.795</td>\n",
       "      <td>0.097744</td>\n",
       "      <td>0.482412</td>\n",
       "      <td>1</td>\n",
       "    </tr>\n",
       "    <tr>\n",
       "      <th>2</th>\n",
       "      <td>0.353082</td>\n",
       "      <td>0.283333</td>\n",
       "      <td>0.778894</td>\n",
       "      <td>0.756892</td>\n",
       "      <td>0.850000</td>\n",
       "      <td>0.9450</td>\n",
       "      <td>0.050</td>\n",
       "      <td>0.268170</td>\n",
       "      <td>0.3775</td>\n",
       "      <td>0.595</td>\n",
       "      <td>0.303258</td>\n",
       "      <td>0.437186</td>\n",
       "      <td>1</td>\n",
       "    </tr>\n",
       "    <tr>\n",
       "      <th>3</th>\n",
       "      <td>0.239374</td>\n",
       "      <td>0.266667</td>\n",
       "      <td>0.517588</td>\n",
       "      <td>0.285714</td>\n",
       "      <td>0.723333</td>\n",
       "      <td>0.1100</td>\n",
       "      <td>0.780</td>\n",
       "      <td>0.744361</td>\n",
       "      <td>0.1100</td>\n",
       "      <td>0.725</td>\n",
       "      <td>0.095238</td>\n",
       "      <td>0.567839</td>\n",
       "      <td>1</td>\n",
       "    </tr>\n",
       "    <tr>\n",
       "      <th>4</th>\n",
       "      <td>0.318307</td>\n",
       "      <td>0.820000</td>\n",
       "      <td>0.763819</td>\n",
       "      <td>0.431078</td>\n",
       "      <td>0.670000</td>\n",
       "      <td>0.1425</td>\n",
       "      <td>0.570</td>\n",
       "      <td>0.080201</td>\n",
       "      <td>0.8575</td>\n",
       "      <td>0.085</td>\n",
       "      <td>0.022556</td>\n",
       "      <td>0.874372</td>\n",
       "      <td>1</td>\n",
       "    </tr>\n",
       "    <tr>\n",
       "      <th>...</th>\n",
       "      <td>...</td>\n",
       "      <td>...</td>\n",
       "      <td>...</td>\n",
       "      <td>...</td>\n",
       "      <td>...</td>\n",
       "      <td>...</td>\n",
       "      <td>...</td>\n",
       "      <td>...</td>\n",
       "      <td>...</td>\n",
       "      <td>...</td>\n",
       "      <td>...</td>\n",
       "      <td>...</td>\n",
       "      <td>...</td>\n",
       "    </tr>\n",
       "    <tr>\n",
       "      <th>395</th>\n",
       "      <td>0.214351</td>\n",
       "      <td>0.610000</td>\n",
       "      <td>0.547739</td>\n",
       "      <td>0.288221</td>\n",
       "      <td>0.950000</td>\n",
       "      <td>0.7725</td>\n",
       "      <td>0.355</td>\n",
       "      <td>0.248120</td>\n",
       "      <td>0.3725</td>\n",
       "      <td>0.280</td>\n",
       "      <td>0.100251</td>\n",
       "      <td>0.055276</td>\n",
       "      <td>1</td>\n",
       "    </tr>\n",
       "    <tr>\n",
       "      <th>396</th>\n",
       "      <td>0.470101</td>\n",
       "      <td>0.260000</td>\n",
       "      <td>0.457286</td>\n",
       "      <td>0.230576</td>\n",
       "      <td>0.923333</td>\n",
       "      <td>0.2150</td>\n",
       "      <td>0.845</td>\n",
       "      <td>0.533835</td>\n",
       "      <td>0.9225</td>\n",
       "      <td>0.420</td>\n",
       "      <td>0.205514</td>\n",
       "      <td>0.562814</td>\n",
       "      <td>1</td>\n",
       "    </tr>\n",
       "    <tr>\n",
       "      <th>397</th>\n",
       "      <td>0.530819</td>\n",
       "      <td>0.240000</td>\n",
       "      <td>0.000000</td>\n",
       "      <td>0.057644</td>\n",
       "      <td>0.550000</td>\n",
       "      <td>0.2500</td>\n",
       "      <td>0.155</td>\n",
       "      <td>0.952381</td>\n",
       "      <td>0.3825</td>\n",
       "      <td>0.305</td>\n",
       "      <td>0.894737</td>\n",
       "      <td>0.256281</td>\n",
       "      <td>1</td>\n",
       "    </tr>\n",
       "    <tr>\n",
       "      <th>398</th>\n",
       "      <td>0.843054</td>\n",
       "      <td>0.966667</td>\n",
       "      <td>0.879397</td>\n",
       "      <td>0.200501</td>\n",
       "      <td>0.353333</td>\n",
       "      <td>0.5850</td>\n",
       "      <td>0.270</td>\n",
       "      <td>0.814536</td>\n",
       "      <td>0.9850</td>\n",
       "      <td>0.555</td>\n",
       "      <td>0.749373</td>\n",
       "      <td>0.326633</td>\n",
       "      <td>1</td>\n",
       "    </tr>\n",
       "    <tr>\n",
       "      <th>399</th>\n",
       "      <td>0.522171</td>\n",
       "      <td>0.606667</td>\n",
       "      <td>0.482412</td>\n",
       "      <td>0.050125</td>\n",
       "      <td>0.383333</td>\n",
       "      <td>0.6150</td>\n",
       "      <td>0.305</td>\n",
       "      <td>0.639098</td>\n",
       "      <td>0.8175</td>\n",
       "      <td>0.195</td>\n",
       "      <td>0.533835</td>\n",
       "      <td>0.497487</td>\n",
       "      <td>1</td>\n",
       "    </tr>\n",
       "  </tbody>\n",
       "</table>\n",
       "<p>400 rows × 13 columns</p>\n",
       "</div>"
      ],
      "text/plain": [
       "            Y        X1        X2        X3        X4      X5     X6  \\\n",
       "0    0.815639  0.850000  0.105528  0.270677  0.366667  0.6500  0.435   \n",
       "1    0.551610  0.120000  0.396985  0.969925  0.583333  0.8250  0.340   \n",
       "2    0.353082  0.283333  0.778894  0.756892  0.850000  0.9450  0.050   \n",
       "3    0.239374  0.266667  0.517588  0.285714  0.723333  0.1100  0.780   \n",
       "4    0.318307  0.820000  0.763819  0.431078  0.670000  0.1425  0.570   \n",
       "..        ...       ...       ...       ...       ...     ...    ...   \n",
       "395  0.214351  0.610000  0.547739  0.288221  0.950000  0.7725  0.355   \n",
       "396  0.470101  0.260000  0.457286  0.230576  0.923333  0.2150  0.845   \n",
       "397  0.530819  0.240000  0.000000  0.057644  0.550000  0.2500  0.155   \n",
       "398  0.843054  0.966667  0.879397  0.200501  0.353333  0.5850  0.270   \n",
       "399  0.522171  0.606667  0.482412  0.050125  0.383333  0.6150  0.305   \n",
       "\n",
       "           X7      X8     X9       X10       X11  int  \n",
       "0    0.949875  0.9425  0.095  0.882206  0.437186    1  \n",
       "1    0.912281  0.9250  0.795  0.097744  0.482412    1  \n",
       "2    0.268170  0.3775  0.595  0.303258  0.437186    1  \n",
       "3    0.744361  0.1100  0.725  0.095238  0.567839    1  \n",
       "4    0.080201  0.8575  0.085  0.022556  0.874372    1  \n",
       "..        ...     ...    ...       ...       ...  ...  \n",
       "395  0.248120  0.3725  0.280  0.100251  0.055276    1  \n",
       "396  0.533835  0.9225  0.420  0.205514  0.562814    1  \n",
       "397  0.952381  0.3825  0.305  0.894737  0.256281    1  \n",
       "398  0.814536  0.9850  0.555  0.749373  0.326633    1  \n",
       "399  0.639098  0.8175  0.195  0.533835  0.497487    1  \n",
       "\n",
       "[400 rows x 13 columns]"
      ]
     },
     "execution_count": 5,
     "metadata": {},
     "output_type": "execute_result"
    }
   ],
   "source": [
    "df_normalised = (df - df.min())/(df.max()-df.min()) # normalizing the dataset\n",
    "df_normalised['int'] = 1 # adding an intercept term\n",
    "\n",
    "df_normalised"
   ]
  },
  {
   "cell_type": "code",
   "execution_count": 941,
   "id": "65c613cf-d858-45a0-80ce-b88b9730df88",
   "metadata": {},
   "outputs": [
    {
     "name": "stdout",
     "output_type": "stream",
     "text": [
      "0.07533348367431136\n"
     ]
    },
    {
     "data": {
      "image/png": "[encoded data removed]",
      "text/plain": [
       "<Figure size 432x288 with 1 Axes>"
      ]
     },
     "metadata": {
      "needs_background": "light"
     },
     "output_type": "display_data"
    }
   ],
   "source": [
    "Y = df_normalised['Y'].to_numpy()              # Converting into a scaled target variable\n",
    "Y = Y.reshape(-1,1)                            # Reshaping since numpy ignores single dimension\n",
    "X = df_normalised.iloc[:,1:].to_numpy()        # Converting into a scaled feature variables\n",
    "Coeff = np.random.standard_normal(X.shape[1])  # Initiation weights\n",
    "Coeff = Coeff.reshape(-1, 1)                   # Reshaping since numpy ignores single dimension\n",
    "i = 0                                          # Epoch Start\n",
    "Loss = []                                      # Placeholder for Loss\n",
    "while i < 200:\n",
    "    S_1 = Y - np.matmul(X,Coeff)               #Y - XB\n",
    "    Loss.append(np.matmul(S_1.transpose(),S_1).item()) #LOSS = (Y - XB)T x (Y - XB)\n",
    "    update_coeff = np.matmul(S_1.transpose(),-X) # COEFF_UPDATE = (Y - XB)T x -X\n",
    "    Coeff-= 0.001*update_coeff.transpose()     # UPDATED_COEFF = CURRENT_COEFF - LEARNING_RATE*COEFF_UPDATE\n",
    "    i+=1\n",
    "plt.plot(Loss)\n",
    "print(Loss[-1])"
   ]
  },
  {
   "cell_type": "code",
   "execution_count": 942,
   "id": "17ce4d97-7993-437d-9e4a-12e13dd046be",
   "metadata": {},
   "outputs": [
    {
     "data": {
      "text/plain": [
       "[2.7489905851950556,\n",
       " 1.639775888702152,\n",
       " 1.3182047649037394,\n",
       " 2.273839748275896,\n",
       " 0.33917792106229666,\n",
       " 1.2513815223370035,\n",
       " 2.967918117042769,\n",
       " 3.8742188864227254,\n",
       " 2.8498270451301044,\n",
       " 5.7993695391534645,\n",
       " 0.8534794431740522,\n",
       " -0.31028018603035806]"
      ]
     },
     "execution_count": 942,
     "metadata": {},
     "output_type": "execute_result"
    }
   ],
   "source": [
    "coeff_list = []                                                  # Placeholder for the loss calculated\n",
    "rescale = (df.max()-df.min()).to_list()[1:]                      # The Max - Min for every feature\n",
    "rescale = [(df.max()-df.min()).to_list()[0]/x for x in rescale]  # UNSCALING_FACTOR = The Max - Min of Target/The Max - Min for every feature\n",
    "rescale.append(1)                                                # Since intercept variable is 1 and was not scaled\n",
    "for i,c in enumerate(Coeff):\n",
    "    coeff_list.append(c[0]*rescale[i])                           # For all the coeffecients the respective scaling factors are applied  \n",
    "coeff_list"
   ]
  },
  {
   "cell_type": "code",
   "execution_count": 943,
   "id": "6d8171e3-662a-4041-a9a4-04eed979cc75",
   "metadata": {},
   "outputs": [
    {
     "name": "stdout",
     "output_type": "stream",
     "text": [
      "RMSE: 24603.33205805776\n",
      "R squared:-0.4523287311501525\n"
     ]
    }
   ],
   "source": [
    "# CHECKING FOR RMSE\n",
    "\n",
    "X = df.iloc[:,1:]                                    # FEATURE MATRIX\n",
    "X['int'] = 1                                         # ADDING INTERCEPT\n",
    "X = X.to_numpy()                                     # CONVERTING TO MATRIX\n",
    "coeff_array = np.asarray(coeff_list)                 # CONVERTING COEFFS INTO MATRIX\n",
    "e = df['Y'].to_numpy() - np.matmul(X, coeff_array)   # Error = Y - Ypred i.e. Y - XB\n",
    "print(f\"RMSE: {np.sqrt(np.matmul(e.transpose(),e))}\")                  # RMSE = sqrt(e_transpose x e)\n",
    "Y = df['Y'].to_numpy()\n",
    "Y_pred = np.matmul(X, coeff_array)\n",
    "\n",
    "print(f\"R squared:{1 - (np.matmul((Y - Y_pred).transpose(),(Y - Y_pred))/np.matmul((Y - np.mean(Y)).transpose(),(Y - np.mean(Y))))}\")"
   ]
  },
  {
   "cell_type": "markdown",
   "id": "880d6f28-4f13-4e69-a356-70c13f47802a",
   "metadata": {},
   "source": [
    "## Implementation of Momentum"
   ]
  },
  {
   "cell_type": "code",
   "execution_count": 601,
   "id": "c5eede2b-e6c4-4504-97ac-ff66d23cf060",
   "metadata": {},
   "outputs": [],
   "source": [
    "# Implementation of Momentum\n",
    "# With every epoch we will store the weight in a list\n",
    "# For ith epoch the weight update would be: ΣB^(n-t).weight_update(t)\n",
    "# Ex: i = 4\n",
    "# B^(4-1).weight_update(1) + B^(4-2).weight_update(2) + B^(4-3).weight_update(3) + B^(4-4).weight_update(4)"
   ]
  },
  {
   "cell_type": "code",
   "execution_count": 924,
   "id": "b22e2572-5447-44fc-80df-fad575f770ca",
   "metadata": {},
   "outputs": [
    {
     "name": "stdout",
     "output_type": "stream",
     "text": [
      "1.4532078515030697e-06\n"
     ]
    },
    {
     "data": {
      "text/plain": [
       "[<matplotlib.lines.Line2D at 0x7f812ad920a0>]"
      ]
     },
     "execution_count": 924,
     "metadata": {},
     "output_type": "execute_result"
    },
    {
     "data": {
      "image/png": "[encoded data removed]",
      "text/plain": [
       "<Figure size 432x288 with 1 Axes>"
      ]
     },
     "metadata": {
      "needs_background": "light"
     },
     "output_type": "display_data"
    }
   ],
   "source": [
    "df = pd.read_csv('Gradient_Descent_Data.csv')\n",
    "df_normalised = (df - df.min())/(df.max()-df.min()) # normalizing the dataset\n",
    "df_normalised['int'] = 1 # adding an intercept term\n",
    "\n",
    "learning_rate = 0.001\n",
    "momentum_param = 0.9\n",
    "\n",
    "gradient_list = []\n",
    "weight_update_list = []\n",
    "loss_list = []\n",
    "\n",
    "#X*Beta\n",
    "Y = df_normalised.iloc[:,0].to_numpy()\n",
    "Y = Y.reshape(-1,1)\n",
    "X = df_normalised.iloc[:,1:].to_numpy()\n",
    "Beta = np.random.standard_normal(X.shape[1])\n",
    "Beta = Beta.reshape(-1,1)\n",
    "epoch = 0\n",
    "while epoch <200:    \n",
    "    #Y-XB\n",
    "    error = Y-np.matmul(X,Beta)\n",
    "    #Sum of Error Squared\n",
    "    loss_list.append(np.matmul(error.transpose(),error).item())\n",
    "    #Gradient: (Y-XB)tranpose x -X\n",
    "    Gradient = np.matmul(error.transpose(),-X).transpose()\n",
    "    gradient_list.append(Gradient)                                                   # This is where we store the gradients for each epoch\n",
    "    len_gradient_list = len(gradient_list)\n",
    "    weight_update_list = []\n",
    "    for i,g in enumerate(gradient_list):\n",
    "        weight_update_list.append((momentum_param**(len_gradient_list - (i+1)))*g)   # To each of the gradient steps multiply the momentum parameter^distance of the epoch`\n",
    "\n",
    "    weight_update = learning_rate*np.sum(weight_update_list, axis = 0)\n",
    "    #weight_update = learning_rate*Gradient\n",
    "    Beta -= weight_update\n",
    "    epoch+=1\n",
    "    \n",
    "print(loss_list[-1])\n",
    "plt.plot(loss_list)"
   ]
  },
  {
   "cell_type": "code",
   "execution_count": 925,
   "id": "89531bbd-776f-42e6-91e5-4a6dd1e8dd5d",
   "metadata": {},
   "outputs": [
    {
     "data": {
      "text/plain": [
       "array([[ 2.99997771],\n",
       "       [ 1.99976686],\n",
       "       [ 1.49935802],\n",
       "       [ 2.50008592],\n",
       "       [ 0.50008238],\n",
       "       [ 1.74869743],\n",
       "       [ 3.20002489],\n",
       "       [ 4.10055232],\n",
       "       [ 3.33079533],\n",
       "       [ 5.99996227],\n",
       "       [ 1.23059336],\n",
       "       [-0.39260309]])"
      ]
     },
     "execution_count": 925,
     "metadata": {},
     "output_type": "execute_result"
    }
   ],
   "source": [
    "# UNSCALE THE WEIGHTS\n",
    "numerator = (df['Y'].max()-df['Y'].min())\n",
    "denominator = (df.iloc[:,1:].max() - df.iloc[:,1:].min())\n",
    "#denominator['int']=1\n",
    "unscaled_param = numerator/denominator\n",
    "unscaled_param = unscaled_param.to_list()#.to_numpy().reshape(-1,1)\n",
    "unscaled_param.append(1)\n",
    "unscaled_param = np.array(unscaled_param).reshape(-1,1)\n",
    "unscaled_coeff = unscaled_param*Beta\n",
    "\n",
    "unscaled_coeff"
   ]
  },
  {
   "cell_type": "code",
   "execution_count": null,
   "id": "abe10a0d-6537-45bf-b794-8d1d0fd20d94",
   "metadata": {},
   "outputs": [],
   "source": [
    "#unscaled_error_sq = np.matmul((df['Y'] - np.matmul(X,Beta)).transpose(),(df['Y'] - np.matmul(X,Beta)))\n",
    "df['int'] = 1\n",
    "error_unscale = df['Y'].to_numpy().reshape(-1,1)-np.matmul(df.iloc[:,1:].to_numpy(),unscaled_coeff)\n",
    "print(f\" RMSE: {np.sqrt(np.matmul(error_unscale.transpose(),error_unscale)).item()}\")\n",
    "\n",
    "RSS = np.matmul(error_unscale.transpose(),error_unscale)\n",
    "TSS = np.matmul((df['Y']-np.mean(df['Y'])).transpose(),(df['Y']-np.mean(df['Y'])))\n",
    "\n",
    "print(f\" R-Squared: {1 - (RSS/TSS).item()}\")"
   ]
  },
  {
   "cell_type": "markdown",
   "id": "837cf08f-f9a4-4941-99c4-7c5685371438",
   "metadata": {
    "tags": []
   },
   "source": [
    "## L2 Ridge Regularization"
   ]
  },
  {
   "cell_type": "code",
   "execution_count": 165,
   "id": "eac82949-bd25-43d1-9311-8bd2eec45f8c",
   "metadata": {},
   "outputs": [
    {
     "name": "stdout",
     "output_type": "stream",
     "text": [
      "1.6287543558822735\n"
     ]
    },
    {
     "data": {
      "text/plain": [
       "[<matplotlib.lines.Line2D at 0x7fd2c491d400>]"
      ]
     },
     "execution_count": 165,
     "metadata": {},
     "output_type": "execute_result"
    },
    {
     "data": {
      "image/png": "[encoded data removed]",
      "text/plain": [
       "<Figure size 432x288 with 1 Axes>"
      ]
     },
     "metadata": {
      "needs_background": "light"
     },
     "output_type": "display_data"
    }
   ],
   "source": [
    "Lambda = 0.1\n",
    "Learning_Rate = 0.001\n",
    "Y = df_normalised['Y'].to_numpy().reshape(-1,1)\n",
    "X = df_normalised.iloc[:,1:].to_numpy()\n",
    "Beta = np.random.standard_normal(X.shape[1]).reshape(-1,1)\n",
    "Loss_List = []\n",
    "i = 0\n",
    "while i <2000:\n",
    "    Error = (Y-np.matmul(X,Beta))\n",
    "    Error_Sq = np.matmul(Error.transpose(), Error)\n",
    "    Beta_ = Beta\n",
    "    Beta_[-1] = 0\n",
    "    Beta_\n",
    "    Loss = Error_Sq+Lambda*np.matmul(Beta_.transpose(),Beta_)\n",
    "    Loss_List.append(Loss.item())\n",
    "    gradient_part = np.matmul(Error.transpose(),-X).reshape(-1,1)\n",
    "    Beta_ = Beta\n",
    "    Beta_[-1] = 0\n",
    "    l2_part = Lambda*Beta_\n",
    "    regularized_Gradient = gradient_part + l2_part\n",
    "    Beta -= Learning_Rate*regularized_Gradient\n",
    "    i+=1\n",
    "print(Loss_List[-1])\n",
    "plt.plot(Loss_List)"
   ]
  },
  {
   "cell_type": "markdown",
   "id": "7199bfbe-f378-492e-b517-876d91e36344",
   "metadata": {},
   "source": [
    "## L1 Lasso Regularization"
   ]
  },
  {
   "cell_type": "code",
   "execution_count": 267,
   "id": "0feb03b4-886e-4958-9d2c-d73db176e6c0",
   "metadata": {},
   "outputs": [
    {
     "name": "stdout",
     "output_type": "stream",
     "text": [
      "3.492867133587724\n"
     ]
    },
    {
     "data": {
      "text/plain": [
       "[<matplotlib.lines.Line2D at 0x7fd2cf6add60>]"
      ]
     },
     "execution_count": 267,
     "metadata": {},
     "output_type": "execute_result"
    },
    {
     "data": {
      "image/png": "[encoded data removed]",
      "text/plain": [
       "<Figure size 432x288 with 1 Axes>"
      ]
     },
     "metadata": {
      "needs_background": "light"
     },
     "output_type": "display_data"
    }
   ],
   "source": [
    "Lambda = 0.1\n",
    "Learning_Rate = 0.001\n",
    "Y = df_normalised['Y'].to_numpy().reshape(-1,1)\n",
    "X = df_normalised.iloc[:,1:].to_numpy()\n",
    "Beta = np.random.standard_normal(X.shape[1]).reshape(-1,1)\n",
    "Loss_List = []\n",
    "i = 0\n",
    "while i <100:\n",
    "    Beta_ = Beta\n",
    "    Beta_[-1] = 0\n",
    "    Error = Y - np.matmul(X,Beta)\n",
    "    Error_Sq = np.matmul(Error.transpose(),Error)\n",
    "    Loss = Error_Sq + Lambda*np.sum(abs(Beta_))\n",
    "    Loss_List.append(Loss.item())\n",
    "    gradient_part = np.matmul(Error.transpose(),-X).reshape(-1,1)\n",
    "    l1_part = Lambda*np.sign(Beta_)\n",
    "    Beta -= Learning_Rate*gradient_part+Lambda*l1_part\n",
    "    i+=1\n",
    "print(Loss_List[-1])\n",
    "plt.plot(Loss_List)"
   ]
  },
  {
   "cell_type": "code",
   "execution_count": 502,
   "id": "1c67ddbf-95c7-4f6f-89df-cdf74ccfd312",
   "metadata": {},
   "outputs": [
    {
     "name": "stdout",
     "output_type": "stream",
     "text": [
      "24.86078116683997 0.7331422329118361\n"
     ]
    },
    {
     "data": {
      "text/plain": [
       "[<matplotlib.lines.Line2D at 0x7fd2bdaced00>]"
      ]
     },
     "execution_count": 502,
     "metadata": {},
     "output_type": "execute_result"
    },
    {
     "data": {
      "image/png": "[encoded data removed]",
      "text/plain": [
       "<Figure size 432x288 with 1 Axes>"
      ]
     },
     "metadata": {
      "needs_background": "light"
     },
     "output_type": "display_data"
    }
   ],
   "source": [
    "# Let us take a simple example\n",
    "Learning_Rate = 0.001\n",
    "Y = df_normalised['Y'].to_numpy().reshape(-1,1)\n",
    "X = df_normalised.iloc[:,1].to_numpy().reshape(-1,1)\n",
    "Beta = np.random.standard_normal(X.shape[1]).reshape(-1,1)\n",
    "Error = Y - np.matmul(X,Beta)\n",
    "Loss = np.matmul(Error.transpose(),Error)+0.1*abs(Beta)\n",
    "Loss\n",
    "Loss_List = []\n",
    "Beta_List = []\n",
    "i = 0\n",
    "while i <10000:\n",
    "    Error = Y - np.matmul(X,Beta)\n",
    "    Loss = np.matmul(Error.transpose(),Error)+0.01*abs(Beta)\n",
    "    Loss_List.append(Loss.item())\n",
    "    Beta_List.append(Beta.item())\n",
    "    Gradient = np.matmul(Error.transpose(),-X)+0.01*np.sign(Beta)\n",
    "    Beta-=Learning_Rate*Gradient\n",
    "    i+=1\n",
    "print(Loss_List[-1], Beta_List[-1])\n",
    "plt.plot(Beta_List, Loss_List)"
   ]
  },
  {
   "cell_type": "code",
   "execution_count": 495,
   "id": "320e438d-7529-4b93-b1be-8cd401f3547f",
   "metadata": {},
   "outputs": [
    {
     "data": {
      "text/plain": [
       "[<matplotlib.lines.Line2D at 0x7fd2bcfb43d0>]"
      ]
     },
     "execution_count": 495,
     "metadata": {},
     "output_type": "execute_result"
    },
    {
     "data": {
      "image/png": "[encoded data removed]",
      "text/plain": [
       "<Figure size 432x288 with 1 Axes>"
      ]
     },
     "metadata": {
      "needs_background": "light"
     },
     "output_type": "display_data"
    }
   ],
   "source": [
    "Beta_ = np.random.normal(0.7324934345264944,1,100)\n",
    "Beta_.sort()\n",
    "Loss_List = []\n",
    "Beta_List = []\n",
    "for b in Beta_:\n",
    "    Error = Y - b*X\n",
    "    Loss = np.matmul(Error.transpose(),Error)\n",
    "    Loss_List.append(Loss.item())\n",
    "    Beta_List.append(b)\n",
    "    i+=1\n",
    "plt.plot(Beta_List, Loss_List)"
   ]
  },
  {
   "cell_type": "markdown",
   "id": "8bd61553-af66-437a-b14e-5c78fe47ded7",
   "metadata": {},
   "source": [
    "## Simply note: When L2 regularization is applied because of it's quadratic nature, as Lambda -> infinity Beta tend towards zero asymptotically and not completely zero\n",
    "\n",
    "## But for L1 regularization since we use |Beta| the derivative is a constant based on the sign of Beta and can force the slope to become zero for finite values of Lambda hence L1 regularization can also be used to remove unnecessary variables while L2 will shrink Betas quite alot but never make them zero thus "
   ]
  }
 ],
 "metadata": {
  "kernelspec": {
   "display_name": "Python 3 (ipykernel)",
   "language": "python",
   "name": "python3"
  },
  "language_info": {
   "codemirror_mode": {
    "name": "ipython",
    "version": 3
   },
   "file_extension": ".py",
   "mimetype": "text/x-python",
   "name": "python",
   "nbconvert_exporter": "python",
   "pygments_lexer": "ipython3",
   "version": "3.9.7"
  }
 },
 "nbformat": 4,
 "nbformat_minor": 5
}
