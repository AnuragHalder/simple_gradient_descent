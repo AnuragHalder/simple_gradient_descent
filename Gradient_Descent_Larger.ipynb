{
 "cells": [
  {
   "cell_type": "code",
   "execution_count": 1,
   "id": "0694e95c-fcdc-4470-a5e7-1040a807f9be",
   "metadata": {},
   "outputs": [],
   "source": [
    "import pandas as pd\n",
    "import numpy as np\n",
    "from matplotlib import pyplot as plt"
   ]
  },
  {
   "cell_type": "code",
   "execution_count": 347,
   "id": "e189d82d-dd91-4f55-b031-91cd1d7a0c7e",
   "metadata": {},
   "outputs": [],
   "source": [
    "df = pd.read_csv('Gradient_Descent_Data.csv')"
   ]
  },
  {
   "cell_type": "code",
   "execution_count": 348,
   "id": "a9a9b07d-de72-4595-8883-65303563fd6c",
   "metadata": {},
   "outputs": [],
   "source": [
    "df_normalised = (df - df.min())/(df.max()-df.min()) # normalizing the dataset\n",
    "df_normalised['int'] = 1 # adding an intercept term"
   ]
  },
  {
   "cell_type": "code",
   "execution_count": 376,
   "id": "65c613cf-d858-45a0-80ce-b88b9730df88",
   "metadata": {},
   "outputs": [
    {
     "name": "stdout",
     "output_type": "stream",
     "text": [
      "1.1251922074262914e-06\n"
     ]
    },
    {
     "data": {
      "image/png": "[encoded data removed]",
      "text/plain": [
       "<Figure size 432x288 with 1 Axes>"
      ]
     },
     "metadata": {
      "needs_background": "light"
     },
     "output_type": "display_data"
    }
   ],
   "source": [
    "Y = df_normalised['Y'].to_numpy()              # Converting into a scaled target variable\n",
    "Y = Y.reshape(-1,1)                            # Reshaping since numpy ignores single dimension\n",
    "X = df_normalised.iloc[:,1:].to_numpy()        # Converting into a scaled feature variables\n",
    "Coeff = np.random.standard_normal(X.shape[1])  # Initiation weights\n",
    "Coeff = Coeff.reshape(-1, 1)                   # Reshaping since numpy ignores single dimension\n",
    "i = 0                                          # Epoch Start\n",
    "Loss = []                                      # Placeholder for Loss\n",
    "while i < 2000:\n",
    "    S_1 = Y - np.matmul(X,Coeff)               #Y - XB\n",
    "    Loss.append(np.matmul(S_1.transpose(),S_1).item()) #LOSS = (Y - XB)T x (Y - XB)\n",
    "    update_coeff = np.matmul(S_1.transpose(),-X) # COEFF_UPDATE = (Y - XB)T x -X\n",
    "    Coeff-= 0.00131*update_coeff.transpose()     # UPDATED_COEFF = CURRENT_COEFF - LEARNING_RATE*COEFF_UPDATE\n",
    "    i+=1\n",
    "plt.plot(Loss)\n",
    "print(Loss[-1])"
   ]
  },
  {
   "cell_type": "code",
   "execution_count": 377,
   "id": "17ce4d97-7993-437d-9e4a-12e13dd046be",
   "metadata": {},
   "outputs": [],
   "source": [
    "coeff_list = []                                                  # Placeholder for the loss calculated\n",
    "rescale = (df.max()-df.min()).to_list()[1:]                      # The Max - Min for every feature\n",
    "rescale = [(df.max()-df.min()).to_list()[0]/x for x in rescale]  # UNSCALING_FACTOR = The Max - Min of Target/The Max - Min for every feature\n",
    "rescale.append(1)                                                # Since intercept variable is 1 and was not scaled\n",
    "for i,c in enumerate(Coeff):\n",
    "    coeff_list.append(c[0]*rescale[i])                           # For all the coeffecients the respective scaling factors are applied                                                 "
   ]
  },
  {
   "cell_type": "code",
   "execution_count": 382,
   "id": "6d8171e3-662a-4041-a9a4-04eed979cc75",
   "metadata": {},
   "outputs": [
    {
     "name": "stdout",
     "output_type": "stream",
     "text": [
      "RMSE: 10.118310027375214\n"
     ]
    }
   ],
   "source": [
    "# CHECKING FOR RMSE\n",
    "\n",
    "X = df.iloc[:,1:]                                    # FEATURE MATRIX\n",
    "X['int'] = 1                                         # ADDING INTERCEPT\n",
    "X = X.to_numpy()                                     # CONVERTING TO MATRIX\n",
    "coeff_array = np.asarray(coeff_list)                 # CONVERTING COEFFS INTO MATRIX\n",
    "e = df['Y'].to_numpy() - np.matmul(X, coeff_array)   # Error = Y - Ypred i.e. Y - XB\n",
    "print(f\"RMSE: {np.sqrt(np.matmul(e.transpose(),e))}\")                  # RMSE = sqrt(e_transpose x e)"
   ]
  }
 ],
 "metadata": {
  "kernelspec": {
   "display_name": "Python 3 (ipykernel)",
   "language": "python",
   "name": "python3"
  },
  "language_info": {
   "codemirror_mode": {
    "name": "ipython",
    "version": 3
   },
   "file_extension": ".py",
   "mimetype": "text/x-python",
   "name": "python",
   "nbconvert_exporter": "python",
   "pygments_lexer": "ipython3",
   "version": "3.9.7"
  }
 },
 "nbformat": 4,
 "nbformat_minor": 5
}
